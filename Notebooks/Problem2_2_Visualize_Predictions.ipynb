{
 "cells": [
  {
   "cell_type": "markdown",
   "id": "d5ca20e9",
   "metadata": {},
   "source": [
    "# Analysis of predictions by DNABERT"
   ]
  },
  {
   "cell_type": "code",
   "execution_count": 1,
   "id": "5043ba9e",
   "metadata": {},
   "outputs": [
    {
     "name": "stderr",
     "output_type": "stream",
     "text": [
      "/home/elwazi_mru/anaconda3/lib/python3.11/site-packages/pandas/core/arrays/masked.py:60: UserWarning: Pandas requires version '1.3.6' or newer of 'bottleneck' (version '1.3.5' currently installed).\n",
      "  from pandas.core import (\n"
     ]
    }
   ],
   "source": [
    "import pandas as pd"
   ]
  },
  {
   "cell_type": "code",
   "execution_count": 2,
   "id": "02450d7c",
   "metadata": {},
   "outputs": [
    {
     "data": {
      "text/html": [
       "<div>\n",
       "<style scoped>\n",
       "    .dataframe tbody tr th:only-of-type {\n",
       "        vertical-align: middle;\n",
       "    }\n",
       "\n",
       "    .dataframe tbody tr th {\n",
       "        vertical-align: top;\n",
       "    }\n",
       "\n",
       "    .dataframe thead th {\n",
       "        text-align: right;\n",
       "    }\n",
       "</style>\n",
       "<table border=\"1\" class=\"dataframe\">\n",
       "  <thead>\n",
       "    <tr style=\"text-align: right;\">\n",
       "      <th></th>\n",
       "      <th>dhs_id</th>\n",
       "      <th>sequence</th>\n",
       "    </tr>\n",
       "  </thead>\n",
       "  <tbody>\n",
       "    <tr>\n",
       "      <th>0</th>\n",
       "      <td>chr1_181400_181564_181490</td>\n",
       "      <td>cgcccaggggaggaggcgtggcgcaggcgcagagaggcgcgccgtg...</td>\n",
       "    </tr>\n",
       "    <tr>\n",
       "      <th>1</th>\n",
       "      <td>chr1_629160_629310_629230</td>\n",
       "      <td>CACAAACATTATTATAATAAACACCCTCACCACTACAATCTTCCTA...</td>\n",
       "    </tr>\n",
       "    <tr>\n",
       "      <th>2</th>\n",
       "      <td>chr1_629520_629596_629590</td>\n",
       "      <td>ccatccctgagaatccaaaattctccgtgccacctatcacacccca...</td>\n",
       "    </tr>\n",
       "    <tr>\n",
       "      <th>3</th>\n",
       "      <td>chr1_629870_630020_629930</td>\n",
       "      <td>CAATATACTCTCCGGACAATGAACCATAACCAATACCACCAATCAA...</td>\n",
       "    </tr>\n",
       "    <tr>\n",
       "      <th>4</th>\n",
       "      <td>chr1_630181_630319_630270</td>\n",
       "      <td>ACTCCTCAATTACCCACATAGGATGAATAACAGCAGTTCTACCGTA...</td>\n",
       "    </tr>\n",
       "    <tr>\n",
       "      <th>...</th>\n",
       "      <td>...</td>\n",
       "      <td>...</td>\n",
       "    </tr>\n",
       "    <tr>\n",
       "      <th>93901</th>\n",
       "      <td>chrY_19354160_19354375_19354270</td>\n",
       "      <td>tgtgagctgttctgaaaaacttgtgactatgcgtggcctgggacct...</td>\n",
       "    </tr>\n",
       "    <tr>\n",
       "      <th>93902</th>\n",
       "      <td>chrY_19567050_19567360_19567210</td>\n",
       "      <td>CTAGAACGTTGCATTACGCTCCAATCCCGAGCAGGTCCAGAGAGCC...</td>\n",
       "    </tr>\n",
       "    <tr>\n",
       "      <th>93903</th>\n",
       "      <td>chrY_19744660_19745060_19744810</td>\n",
       "      <td>TAGCTGCTTACCAATCGTCAGGGATCCTAGTTTTACAGCCACCATC...</td>\n",
       "    </tr>\n",
       "    <tr>\n",
       "      <th>93904</th>\n",
       "      <td>chrY_20575532_20575800_20575670</td>\n",
       "      <td>GGGCCCCGCCCATTTCATCCTTGACTCCACCTTCTCCATGCTGAGT...</td>\n",
       "    </tr>\n",
       "    <tr>\n",
       "      <th>93905</th>\n",
       "      <td>chrY_56734848_56734900_56734850</td>\n",
       "      <td>tcgattggaatgaaatcgcatagaatggagtggaatcaaatggaat...</td>\n",
       "    </tr>\n",
       "  </tbody>\n",
       "</table>\n",
       "<p>93906 rows × 2 columns</p>\n",
       "</div>"
      ],
      "text/plain": [
       "                                dhs_id  \\\n",
       "0            chr1_181400_181564_181490   \n",
       "1            chr1_629160_629310_629230   \n",
       "2            chr1_629520_629596_629590   \n",
       "3            chr1_629870_630020_629930   \n",
       "4            chr1_630181_630319_630270   \n",
       "...                                ...   \n",
       "93901  chrY_19354160_19354375_19354270   \n",
       "93902  chrY_19567050_19567360_19567210   \n",
       "93903  chrY_19744660_19745060_19744810   \n",
       "93904  chrY_20575532_20575800_20575670   \n",
       "93905  chrY_56734848_56734900_56734850   \n",
       "\n",
       "                                                sequence  \n",
       "0      cgcccaggggaggaggcgtggcgcaggcgcagagaggcgcgccgtg...  \n",
       "1      CACAAACATTATTATAATAAACACCCTCACCACTACAATCTTCCTA...  \n",
       "2      ccatccctgagaatccaaaattctccgtgccacctatcacacccca...  \n",
       "3      CAATATACTCTCCGGACAATGAACCATAACCAATACCACCAATCAA...  \n",
       "4      ACTCCTCAATTACCCACATAGGATGAATAACAGCAGTTCTACCGTA...  \n",
       "...                                                  ...  \n",
       "93901  tgtgagctgttctgaaaaacttgtgactatgcgtggcctgggacct...  \n",
       "93902  CTAGAACGTTGCATTACGCTCCAATCCCGAGCAGGTCCAGAGAGCC...  \n",
       "93903  TAGCTGCTTACCAATCGTCAGGGATCCTAGTTTTACAGCCACCATC...  \n",
       "93904  GGGCCCCGCCCATTTCATCCTTGACTCCACCTTCTCCATGCTGAGT...  \n",
       "93905  tcgattggaatgaaatcgcatagaatggagtggaatcaaatggaat...  \n",
       "\n",
       "[93906 rows x 2 columns]"
      ]
     },
     "execution_count": 2,
     "metadata": {},
     "output_type": "execute_result"
    }
   ],
   "source": [
    "df_sequences=pd.read_csv(\"../DNABERT/examples/dhs2/heart_specific_dhs_sequences.tsv\", sep=\"\\t\")[[\"dhs_id\",\"sequence\"]]\n",
    "df_sequences"
   ]
  },
  {
   "cell_type": "code",
   "execution_count": 3,
   "id": "de03492d",
   "metadata": {},
   "outputs": [
    {
     "data": {
      "text/html": [
       "<div>\n",
       "<style scoped>\n",
       "    .dataframe tbody tr th:only-of-type {\n",
       "        vertical-align: middle;\n",
       "    }\n",
       "\n",
       "    .dataframe tbody tr th {\n",
       "        vertical-align: top;\n",
       "    }\n",
       "\n",
       "    .dataframe thead th {\n",
       "        text-align: right;\n",
       "    }\n",
       "</style>\n",
       "<table border=\"1\" class=\"dataframe\">\n",
       "  <thead>\n",
       "    <tr style=\"text-align: right;\">\n",
       "      <th></th>\n",
       "      <th>dhs_id</th>\n",
       "      <th>sequence_6mers</th>\n",
       "      <th>label</th>\n",
       "    </tr>\n",
       "  </thead>\n",
       "  <tbody>\n",
       "    <tr>\n",
       "      <th>0</th>\n",
       "      <td>chr1_181400_181564_181490</td>\n",
       "      <td>cgccca gcccag cccagg ccaggg cagggg agggga gggg...</td>\n",
       "      <td>0</td>\n",
       "    </tr>\n",
       "    <tr>\n",
       "      <th>1</th>\n",
       "      <td>chr1_629160_629310_629230</td>\n",
       "      <td>CACAAA ACAAAC CAAACA AAACAT AACATT ACATTA CATT...</td>\n",
       "      <td>0</td>\n",
       "    </tr>\n",
       "    <tr>\n",
       "      <th>2</th>\n",
       "      <td>chr1_629520_629596_629590</td>\n",
       "      <td>ccatcc catccc atccct tccctg ccctga cctgag ctga...</td>\n",
       "      <td>0</td>\n",
       "    </tr>\n",
       "    <tr>\n",
       "      <th>3</th>\n",
       "      <td>chr1_629870_630020_629930</td>\n",
       "      <td>CAATAT AATATA ATATAC TATACT ATACTC TACTCT ACTC...</td>\n",
       "      <td>0</td>\n",
       "    </tr>\n",
       "    <tr>\n",
       "      <th>4</th>\n",
       "      <td>chr1_630181_630319_630270</td>\n",
       "      <td>ACTCCT CTCCTC TCCTCA CCTCAA CTCAAT TCAATT CAAT...</td>\n",
       "      <td>0</td>\n",
       "    </tr>\n",
       "    <tr>\n",
       "      <th>...</th>\n",
       "      <td>...</td>\n",
       "      <td>...</td>\n",
       "      <td>...</td>\n",
       "    </tr>\n",
       "    <tr>\n",
       "      <th>93901</th>\n",
       "      <td>chrY_19354160_19354375_19354270</td>\n",
       "      <td>tgtgag gtgagc tgagct gagctg agctgt gctgtt ctgt...</td>\n",
       "      <td>1</td>\n",
       "    </tr>\n",
       "    <tr>\n",
       "      <th>93902</th>\n",
       "      <td>chrY_19567050_19567360_19567210</td>\n",
       "      <td>CTAGAA TAGAAC AGAACG GAACGT AACGTT ACGTTG CGTT...</td>\n",
       "      <td>0</td>\n",
       "    </tr>\n",
       "    <tr>\n",
       "      <th>93903</th>\n",
       "      <td>chrY_19744660_19745060_19744810</td>\n",
       "      <td>TAGCTG AGCTGC GCTGCT CTGCTT TGCTTA GCTTAC CTTA...</td>\n",
       "      <td>0</td>\n",
       "    </tr>\n",
       "    <tr>\n",
       "      <th>93904</th>\n",
       "      <td>chrY_20575532_20575800_20575670</td>\n",
       "      <td>GGGCCC GGCCCC GCCCCG CCCCGC CCCGCC CCGCCC CGCC...</td>\n",
       "      <td>0</td>\n",
       "    </tr>\n",
       "    <tr>\n",
       "      <th>93905</th>\n",
       "      <td>chrY_56734848_56734900_56734850</td>\n",
       "      <td>tcgatt cgattg gattgg attgga ttggaa tggaat ggaa...</td>\n",
       "      <td>0</td>\n",
       "    </tr>\n",
       "  </tbody>\n",
       "</table>\n",
       "<p>93906 rows × 3 columns</p>\n",
       "</div>"
      ],
      "text/plain": [
       "                                dhs_id  \\\n",
       "0            chr1_181400_181564_181490   \n",
       "1            chr1_629160_629310_629230   \n",
       "2            chr1_629520_629596_629590   \n",
       "3            chr1_629870_630020_629930   \n",
       "4            chr1_630181_630319_630270   \n",
       "...                                ...   \n",
       "93901  chrY_19354160_19354375_19354270   \n",
       "93902  chrY_19567050_19567360_19567210   \n",
       "93903  chrY_19744660_19745060_19744810   \n",
       "93904  chrY_20575532_20575800_20575670   \n",
       "93905  chrY_56734848_56734900_56734850   \n",
       "\n",
       "                                          sequence_6mers  label  \n",
       "0      cgccca gcccag cccagg ccaggg cagggg agggga gggg...      0  \n",
       "1      CACAAA ACAAAC CAAACA AAACAT AACATT ACATTA CATT...      0  \n",
       "2      ccatcc catccc atccct tccctg ccctga cctgag ctga...      0  \n",
       "3      CAATAT AATATA ATATAC TATACT ATACTC TACTCT ACTC...      0  \n",
       "4      ACTCCT CTCCTC TCCTCA CCTCAA CTCAAT TCAATT CAAT...      0  \n",
       "...                                                  ...    ...  \n",
       "93901  tgtgag gtgagc tgagct gagctg agctgt gctgtt ctgt...      1  \n",
       "93902  CTAGAA TAGAAC AGAACG GAACGT AACGTT ACGTTG CGTT...      0  \n",
       "93903  TAGCTG AGCTGC GCTGCT CTGCTT TGCTTA GCTTAC CTTA...      0  \n",
       "93904  GGGCCC GGCCCC GCCCCG CCCCGC CCCGCC CCGCCC CGCC...      0  \n",
       "93905  tcgatt cgattg gattgg attgga ttggaa tggaat ggaa...      0  \n",
       "\n",
       "[93906 rows x 3 columns]"
      ]
     },
     "execution_count": 3,
     "metadata": {},
     "output_type": "execute_result"
    }
   ],
   "source": [
    "df_kmers=pd.read_csv(\"../DNABERT/examples/dhs2/ft/6/heart_specific_dhs_6mers_with_dhs_ids.tsv\", sep=\"\\t\").rename(columns={'sequence': 'kmers'})\n",
    "df_kmers"
   ]
  },
  {
   "cell_type": "code",
   "execution_count": 4,
   "id": "dfb7c1cc",
   "metadata": {
    "scrolled": true
   },
   "outputs": [
    {
     "data": {
      "text/html": [
       "<div>\n",
       "<style scoped>\n",
       "    .dataframe tbody tr th:only-of-type {\n",
       "        vertical-align: middle;\n",
       "    }\n",
       "\n",
       "    .dataframe tbody tr th {\n",
       "        vertical-align: top;\n",
       "    }\n",
       "\n",
       "    .dataframe thead th {\n",
       "        text-align: right;\n",
       "    }\n",
       "</style>\n",
       "<table border=\"1\" class=\"dataframe\">\n",
       "  <thead>\n",
       "    <tr style=\"text-align: right;\">\n",
       "      <th></th>\n",
       "      <th>preds</th>\n",
       "    </tr>\n",
       "  </thead>\n",
       "  <tbody>\n",
       "    <tr>\n",
       "      <th>0</th>\n",
       "      <td>0.005358</td>\n",
       "    </tr>\n",
       "    <tr>\n",
       "      <th>1</th>\n",
       "      <td>0.002742</td>\n",
       "    </tr>\n",
       "    <tr>\n",
       "      <th>2</th>\n",
       "      <td>0.000048</td>\n",
       "    </tr>\n",
       "    <tr>\n",
       "      <th>3</th>\n",
       "      <td>0.073776</td>\n",
       "    </tr>\n",
       "    <tr>\n",
       "      <th>4</th>\n",
       "      <td>0.063507</td>\n",
       "    </tr>\n",
       "    <tr>\n",
       "      <th>...</th>\n",
       "      <td>...</td>\n",
       "    </tr>\n",
       "    <tr>\n",
       "      <th>16165</th>\n",
       "      <td>0.016648</td>\n",
       "    </tr>\n",
       "    <tr>\n",
       "      <th>16166</th>\n",
       "      <td>0.003751</td>\n",
       "    </tr>\n",
       "    <tr>\n",
       "      <th>16167</th>\n",
       "      <td>0.004595</td>\n",
       "    </tr>\n",
       "    <tr>\n",
       "      <th>16168</th>\n",
       "      <td>0.000902</td>\n",
       "    </tr>\n",
       "    <tr>\n",
       "      <th>16169</th>\n",
       "      <td>0.027889</td>\n",
       "    </tr>\n",
       "  </tbody>\n",
       "</table>\n",
       "<p>16170 rows × 1 columns</p>\n",
       "</div>"
      ],
      "text/plain": [
       "          preds\n",
       "0      0.005358\n",
       "1      0.002742\n",
       "2      0.000048\n",
       "3      0.073776\n",
       "4      0.063507\n",
       "...         ...\n",
       "16165  0.016648\n",
       "16166  0.003751\n",
       "16167  0.004595\n",
       "16168  0.000902\n",
       "16169  0.027889\n",
       "\n",
       "[16170 rows x 1 columns]"
      ]
     },
     "execution_count": 4,
     "metadata": {},
     "output_type": "execute_result"
    }
   ],
   "source": [
    "import numpy as np\n",
    "\n",
    "array = np.load(\"../DNABERT/examples/dhs2/result/6/pred_results.npy\")\n",
    "# Convert the numpy array to a pandas DataFrame with a single column named 'Prediction'\n",
    "df_preds = pd.DataFrame(array, columns=['preds'])\n",
    "df_preds\n",
    "\n",
    "#np.savetxt('./dhs/result/6/pred_results.tsv', array, delimiter='\\t')\n"
   ]
  },
  {
   "cell_type": "code",
   "execution_count": null,
   "id": "61ab79a7",
   "metadata": {},
   "outputs": [],
   "source": [
    "df_preds_final=pd.merge(df_sequences, df_kmers, on=\"dhs_id\")\n"
   ]
  },
  {
   "cell_type": "code",
   "execution_count": null,
   "id": "a661a1ba",
   "metadata": {},
   "outputs": [],
   "source": [
    "df_combined = pd.concat([df_preds_final, df_preds], axis=1)\n",
    "df_combined"
   ]
  },
  {
   "cell_type": "code",
   "execution_count": null,
   "id": "2ad3cb1a",
   "metadata": {},
   "outputs": [],
   "source": [
    "df_combined.columns"
   ]
  },
  {
   "cell_type": "markdown",
   "id": "a2247d68",
   "metadata": {},
   "source": [
    "# Analysis of results "
   ]
  },
  {
   "cell_type": "markdown",
   "id": "9e02cabc",
   "metadata": {},
   "source": [
    "## 1. Accuracy and Confusion Matrix"
   ]
  },
  {
   "cell_type": "code",
   "execution_count": null,
   "id": "5db001a0",
   "metadata": {},
   "outputs": [],
   "source": [
    "from sklearn.metrics import confusion_matrix\n",
    "import seaborn as sns\n",
    "import matplotlib.pyplot as plt\n",
    "\n",
    "# Assuming df_combined is your DataFrame with 'label' and 'preds' columns\n",
    "cm = confusion_matrix(df_combined['label'], df_combined['preds'].round())\n",
    "\n",
    "plt.figure(figsize=(6, 6))\n",
    "sns.heatmap(cm, annot=True, fmt='d', cmap='cividis', cbar=False, square=True)\n",
    "plt.xlabel('Predicted')\n",
    "plt.ylabel('Actual')\n",
    "plt.title('Confusion Matrix')\n",
    "plt.show()"
   ]
  },
  {
   "cell_type": "markdown",
   "id": "c540c059",
   "metadata": {},
   "source": [
    "## 2. ROC Curve and AUC for Model Performance"
   ]
  },
  {
   "cell_type": "code",
   "execution_count": null,
   "id": "f86487e4",
   "metadata": {},
   "outputs": [],
   "source": [
    "from sklearn.metrics import roc_curve, auc\n",
    "\n",
    "# Calculate ROC curve and AUC\n",
    "fpr, tpr, thresholds = roc_curve(df_combined['label'], df_combined['preds'])\n",
    "roc_auc = auc(fpr, tpr)\n",
    "\n",
    "# Plot ROC curve\n",
    "plt.figure(figsize=(8, 6))\n",
    "plt.plot(fpr, tpr, color='darkorange', lw=2, label=f'ROC curve (area = {roc_auc:.2f})')\n",
    "plt.plot([0, 1], [0, 1], color='navy', lw=2, linestyle='--')\n",
    "plt.xlim([0.0, 1.0])\n",
    "plt.ylim([0.0, 1.05])\n",
    "plt.xlabel('False Positive Rate')\n",
    "plt.ylabel('True Positive Rate')\n",
    "plt.title('Receiver Operating Characteristic (ROC) Curve')\n",
    "plt.legend(loc=\"lower right\")\n",
    "plt.show()"
   ]
  },
  {
   "cell_type": "markdown",
   "id": "a9f01b9f",
   "metadata": {},
   "source": [
    "## 3. Analysis of Top Predicted DHSs"
   ]
  },
  {
   "cell_type": "code",
   "execution_count": null,
   "id": "9265703b",
   "metadata": {},
   "outputs": [],
   "source": [
    "# Filter df_combined for entries where preds >= 0.9 and label == 1\n",
    "top_predicted_dhs = df_combined[(df_combined['preds'] >= 0.9) & (df_combined['label'] == 1)]\n",
    "\n",
    "print(\"Top Predicted DHSs with preds >= 0.9 and label == 1:\")\n",
    "print(top_predicted_dhs[['dhs_id', 'label', 'preds']])"
   ]
  },
  {
   "cell_type": "markdown",
   "id": "e911da26",
   "metadata": {},
   "source": [
    "## 4. Visualize the Genomic Distribution of Top Predicted DHSs"
   ]
  },
  {
   "cell_type": "code",
   "execution_count": null,
   "id": "d3b7e2bc",
   "metadata": {},
   "outputs": [],
   "source": [
    "import pandas as pd\n",
    "import matplotlib.pyplot as plt\n",
    "\n",
    "# Split 'dhs_id' into 'Chr', 'start', 'end', 'summit'\n",
    "top_predicted_dhs[['Chr', 'start', 'end', 'summit']] = top_predicted_dhs['dhs_id'].str.split('_', expand=True)\n",
    "\n",
    "# Count the number of DHSs per chromosome ('Chr')\n",
    "dhs_per_chr = top_predicted_dhs['Chr'].value_counts()\n",
    "\n",
    "plt.figure(figsize=(12, 8))\n",
    "dhs_per_chr.plot(kind='bar')\n",
    "plt.title('Distribution of Highly Confident True Positive DHSs Across Chromosomes')\n",
    "plt.xlabel('Chromosome')\n",
    "plt.ylabel('Number of DHSs')\n",
    "plt.xticks(rotation=45)\n",
    "plt.show()\n"
   ]
  },
  {
   "cell_type": "markdown",
   "id": "4a548876",
   "metadata": {},
   "source": [
    "## 5. Prepare data for Functional Enrichment Analysis"
   ]
  },
  {
   "cell_type": "code",
   "execution_count": null,
   "id": "5443ee1e",
   "metadata": {},
   "outputs": [],
   "source": [
    "# Remove 'chr' prefix from the 'Chr' column\n",
    "top_hits=top_predicted_dhs.copy()"
   ]
  },
  {
   "cell_type": "code",
   "execution_count": null,
   "id": "f7a36ca6",
   "metadata": {},
   "outputs": [],
   "source": [
    "top_hits[['Chr', 'start', 'end']].to_csv('../DNABERT/examples/dhs/top_dhs_regions.txt', sep='\\t', index=False, header=False)\n",
    "top_hits[['Chr', 'start', 'end']]"
   ]
  },
  {
   "cell_type": "markdown",
   "id": "aa58e6ef",
   "metadata": {},
   "source": [
    "## 6. Submit the top results to the [GREAT Functional Enrichment site](https://great.stanford.edu/great/public/html/)"
   ]
  },
  {
   "cell_type": "markdown",
   "id": "c7036c81",
   "metadata": {},
   "source": [
    "## 7. Analyse results from GREAT"
   ]
  },
  {
   "cell_type": "code",
   "execution_count": null,
   "id": "f45f8384",
   "metadata": {},
   "outputs": [],
   "source": [
    "import pandas as pd\n",
    "\n",
    "# Replace 'great_output.txt' with the path to your GREAT output file\n",
    "great_output_df = pd.read_csv('../DNABERT/examples/dhs2/greatExportAll.tsv', skiprows=3, sep='\\t')  # Adjust separator if needed\n",
    "\n",
    "# Display the first few rows to verify\n",
    "print(great_output_df)"
   ]
  },
  {
   "cell_type": "code",
   "execution_count": null,
   "id": "a4a8cd39",
   "metadata": {},
   "outputs": [],
   "source": [
    "# Define heart-related keywords\n",
    "heart_keywords = ['heart', 'cardiac', 'cardiovascular', 'atrium', 'ventricle', 'myocardial', 'coronary']\n",
    "\n",
    "# Filter rows where any of the heart_keywords appear in the 'Desc' column\n",
    "heart_related_rows = great_output_df[great_output_df['Desc'].str.contains('|'.join(heart_keywords), case=False, na=False)]\n",
    "\n",
    "# Display heart-related rows\n",
    "print(heart_related_rows)"
   ]
  },
  {
   "cell_type": "code",
   "execution_count": null,
   "id": "e31cf86c",
   "metadata": {},
   "outputs": [],
   "source": [
    "heart_related_rows[\"Desc\"].unique()"
   ]
  }
 ],
 "metadata": {
  "kernelspec": {
   "display_name": "Python 3 (ipykernel)",
   "language": "python",
   "name": "python3"
  },
  "language_info": {
   "codemirror_mode": {
    "name": "ipython",
    "version": 3
   },
   "file_extension": ".py",
   "mimetype": "text/x-python",
   "name": "python",
   "nbconvert_exporter": "python",
   "pygments_lexer": "ipython3",
   "version": "3.11.3"
  }
 },
 "nbformat": 4,
 "nbformat_minor": 5
}
